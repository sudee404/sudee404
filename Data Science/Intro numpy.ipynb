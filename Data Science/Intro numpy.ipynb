{
 "cells": [
  {
   "cell_type": "markdown",
   "source": [
    "# Numpy"
   ],
   "metadata": {}
  },
  {
   "cell_type": "code",
   "execution_count": 1053,
   "source": [
    "#numpy array\n",
    "#lst-list\n",
    "#lstArr-list array\n",
    "import numpy as np\n",
    "lst=[1,2,3,4,5,6]\n",
    "lstArr = np.array(lst)\n",
    "print(lstArr[0])"
   ],
   "outputs": [
    {
     "output_type": "stream",
     "name": "stdout",
     "text": [
      "1\n"
     ]
    }
   ],
   "metadata": {}
  },
  {
   "cell_type": "code",
   "execution_count": 1054,
   "source": [
    "import numpy as np\n",
    "data=np.array([[1,2,3],[4,5,6],[7,8,9]])\n"
   ],
   "outputs": [],
   "metadata": {}
  },
  {
   "cell_type": "code",
   "execution_count": 1055,
   "source": [
    "#numpy array properties\n",
    "print(data.ndim)\n",
    "print(data.size)\n",
    "print(data.shape)"
   ],
   "outputs": [
    {
     "output_type": "stream",
     "name": "stdout",
     "text": [
      "2\n",
      "9\n",
      "(3, 3)\n"
     ]
    }
   ],
   "metadata": {}
  },
  {
   "cell_type": "code",
   "execution_count": 1034,
   "source": [
    "#numpy array functions\n",
    "#arange-fills list with values from range\n",
    "x=np.arange(1,30,5)\n",
    "print(x.shape)\n",
    "print(x)\n"
   ],
   "outputs": [
    {
     "output_type": "stream",
     "name": "stdout",
     "text": [
      "(6,)\n",
      "[ 1  6 11 16 21 26]\n"
     ]
    }
   ],
   "metadata": {}
  },
  {
   "cell_type": "code",
   "execution_count": 1035,
   "source": [
    "#reshape-rehapes matrix of list or flattens a matrix\n",
    "x=x.reshape(2,3)\n",
    "print(x.shape)\n",
    "print(x)\n",
    "\n",
    "x=x.reshape(6)\n",
    "print(x.shape)\n",
    "print(x)"
   ],
   "outputs": [
    {
     "output_type": "stream",
     "name": "stdout",
     "text": [
      "(2, 3)\n",
      "[[ 1  6 11]\n",
      " [16 21 26]]\n",
      "(6,)\n",
      "[ 1  6 11 16 21 26]\n"
     ]
    }
   ],
   "metadata": {}
  },
  {
   "cell_type": "code",
   "execution_count": 1036,
   "source": [
    "#append-adds value to list but flattens it too\n",
    "x=np.append(x,[30,3,2])\n",
    "print(x)"
   ],
   "outputs": [
    {
     "output_type": "stream",
     "name": "stdout",
     "text": [
      "[ 1  6 11 16 21 26 30  3  2]\n"
     ]
    }
   ],
   "metadata": {}
  },
  {
   "cell_type": "code",
   "execution_count": 1037,
   "source": [
    "#delete\n",
    "x=np.delete(x,0)\n",
    "print(x)"
   ],
   "outputs": [
    {
     "output_type": "stream",
     "name": "stdout",
     "text": [
      "[ 6 11 16 21 26 30  3  2]\n"
     ]
    }
   ],
   "metadata": {}
  },
  {
   "cell_type": "code",
   "execution_count": 1038,
   "source": [
    "#sort\n",
    "x=np.sort(x)\n",
    "print(x)"
   ],
   "outputs": [
    {
     "output_type": "stream",
     "name": "stdout",
     "text": [
      "[ 2  3  6 11 16 21 26 30]\n"
     ]
    }
   ],
   "metadata": {}
  },
  {
   "cell_type": "code",
   "execution_count": 1039,
   "source": [
    "#indexing and slicing\n",
    "print(x)\n",
    "print(x[0])\n",
    "#index 1 to 3\n",
    "print(x[1:3])\n"
   ],
   "outputs": [
    {
     "output_type": "stream",
     "name": "stdout",
     "text": [
      "[ 2  3  6 11 16 21 26 30]\n",
      "2\n",
      "[3 6]\n"
     ]
    }
   ],
   "metadata": {}
  },
  {
   "cell_type": "code",
   "execution_count": 1040,
   "source": [
    "#beginning to index\n",
    "print(x[:5])\n",
    "print(x[:2])\n"
   ],
   "outputs": [
    {
     "output_type": "stream",
     "name": "stdout",
     "text": [
      "[ 2  3  6 11 16]\n",
      "[2 3]\n"
     ]
    }
   ],
   "metadata": {}
  },
  {
   "cell_type": "code",
   "execution_count": 1041,
   "source": [
    "#index to end\n",
    "print(x[2:])\n",
    "print(x[5:])\n"
   ],
   "outputs": [
    {
     "output_type": "stream",
     "name": "stdout",
     "text": [
      "[ 6 11 16 21 26 30]\n",
      "[21 26 30]\n"
     ]
    }
   ],
   "metadata": {}
  },
  {
   "cell_type": "code",
   "execution_count": 1042,
   "source": [
    "#negative values-  reverse\n",
    "print(x)\n",
    "print(x[-2:])#index 2 from opposite side\n",
    "print(x[-5:])\n"
   ],
   "outputs": [
    {
     "output_type": "stream",
     "name": "stdout",
     "text": [
      "[ 2  3  6 11 16 21 26 30]\n",
      "[26 30]\n",
      "[11 16 21 26 30]\n"
     ]
    }
   ],
   "metadata": {}
  },
  {
   "cell_type": "code",
   "execution_count": 1043,
   "source": [
    "#using step\n",
    "print(x)\n",
    "print(x[1:5:1])\n",
    "print(x[1:5:2])\n"
   ],
   "outputs": [
    {
     "output_type": "stream",
     "name": "stdout",
     "text": [
      "[ 2  3  6 11 16 21 26 30]\n",
      "[ 3  6 11 16]\n",
      "[ 3 11]\n"
     ]
    }
   ],
   "metadata": {}
  },
  {
   "cell_type": "code",
   "execution_count": 1044,
   "source": [
    "#negative step reverses number\n",
    "print(x)\n",
    "print(x[::-1])"
   ],
   "outputs": [
    {
     "output_type": "stream",
     "name": "stdout",
     "text": [
      "[ 2  3  6 11 16 21 26 30]\n",
      "[30 26 21 16 11  6  3  2]\n"
     ]
    }
   ],
   "metadata": {}
  },
  {
   "cell_type": "code",
   "execution_count": 1045,
   "source": [
    "#conditions as index\n",
    "print(x[x>4])\n",
    "print(x[x%2==0])"
   ],
   "outputs": [
    {
     "output_type": "stream",
     "name": "stdout",
     "text": [
      "[ 6 11 16 21 26 30]\n",
      "[ 2  6 16 26 30]\n"
     ]
    }
   ],
   "metadata": {}
  },
  {
   "cell_type": "code",
   "execution_count": 1046,
   "source": [
    "#combining conditions\n",
    "print(x)\n",
    "print(x[(x>4) & (x%2==0)])"
   ],
   "outputs": [
    {
     "output_type": "stream",
     "name": "stdout",
     "text": [
      "[ 2  3  6 11 16 21 26 30]\n",
      "[ 6 16 26 30]\n"
     ]
    }
   ],
   "metadata": {}
  },
  {
   "cell_type": "code",
   "execution_count": 1047,
   "source": [
    "#array with 1-100 and \n",
    "# prints all divisible by 5 and 3\n",
    "n=np.arange(1,101)\n",
    "print(n[(n%3==0)&(n%5==0)])\n",
    "#by 5 or 3\n",
    "print(n[(n%3==0)|(n%5==0)])\n",
    "#even numbers\n",
    "print(n[(n%2==0)])\n",
    "y=(n[(n%2==0)])\n",
    "print(y.size)"
   ],
   "outputs": [
    {
     "output_type": "stream",
     "name": "stdout",
     "text": [
      "[15 30 45 60 75 90]\n",
      "[  3   5   6   9  10  12  15  18  20  21  24  25  27  30  33  35  36  39\n",
      "  40  42  45  48  50  51  54  55  57  60  63  65  66  69  70  72  75  78\n",
      "  80  81  84  85  87  90  93  95  96  99 100]\n",
      "[  2   4   6   8  10  12  14  16  18  20  22  24  26  28  30  32  34  36\n",
      "  38  40  42  44  46  48  50  52  54  56  58  60  62  64  66  68  70  72\n",
      "  74  76  78  80  82  84  86  88  90  92  94  96  98 100]\n",
      "50\n"
     ]
    }
   ],
   "metadata": {}
  },
  {
   "cell_type": "code",
   "execution_count": 1048,
   "source": [
    "#array operations\n",
    "print(n)\n",
    "#sum of all numbers in list\n",
    "print(n.sum())\n",
    "#sum of portion\n",
    "print(n[(n%2==0)].sum())\n",
    "#maximum \n",
    "print(n[(n%2==0)].max())\n",
    "#minimum\n",
    "print(n[(n%2==0)].min())"
   ],
   "outputs": [
    {
     "output_type": "stream",
     "name": "stdout",
     "text": [
      "[  1   2   3   4   5   6   7   8   9  10  11  12  13  14  15  16  17  18\n",
      "  19  20  21  22  23  24  25  26  27  28  29  30  31  32  33  34  35  36\n",
      "  37  38  39  40  41  42  43  44  45  46  47  48  49  50  51  52  53  54\n",
      "  55  56  57  58  59  60  61  62  63  64  65  66  67  68  69  70  71  72\n",
      "  73  74  75  76  77  78  79  80  81  82  83  84  85  86  87  88  89  90\n",
      "  91  92  93  94  95  96  97  98  99 100]\n",
      "5050\n",
      "2550\n",
      "100\n",
      "2\n"
     ]
    }
   ],
   "metadata": {}
  },
  {
   "cell_type": "code",
   "execution_count": 1049,
   "source": [
    "#performing operations\n",
    "print(x)\n",
    "print(x*2)\n",
    "print(x**2)\n",
    "print(x[:3])\n",
    "print(x[:3].sum())"
   ],
   "outputs": [
    {
     "output_type": "stream",
     "name": "stdout",
     "text": [
      "[ 2  3  6 11 16 21 26 30]\n",
      "[ 4  6 12 22 32 42 52 60]\n",
      "[  4   9  36 121 256 441 676 900]\n",
      "[2 3 6]\n",
      "11\n"
     ]
    }
   ],
   "metadata": {}
  },
  {
   "cell_type": "markdown",
   "source": [
    "Statistics"
   ],
   "metadata": {}
  },
  {
   "cell_type": "code",
   "execution_count": 1050,
   "source": [
    "#peforming statistical functions\n",
    "a=np.array([14,18,19,24,26,33,42,55,67])\n",
    "#mean\n",
    "print(np.mean(a))\n",
    "#median\n",
    "print(np.median(a))\n",
    "#variance\n",
    "print(np.var(a))\n",
    "#std\n",
    "print(np.std(a))\n",
    "\n",
    "#numbers greater than mean\n",
    "print(a[a>=np.mean(a)])\n",
    "\n",
    "#numbers greater than median\n",
    "print(a[a>=np.median(a)])"
   ],
   "outputs": [
    {
     "output_type": "stream",
     "name": "stdout",
     "text": [
      "33.111111111111114\n",
      "26.0\n",
      "292.5432098765432\n",
      "17.10389458212787\n",
      "[42 55 67]\n",
      "[26 33 42 55 67]\n"
     ]
    }
   ],
   "metadata": {}
  },
  {
   "cell_type": "markdown",
   "source": [
    "Project"
   ],
   "metadata": {}
  },
  {
   "cell_type": "code",
   "execution_count": 1052,
   "source": [
    "import numpy as np\n",
    "\n",
    "data = np.array([150000, 125000, 320000, 540000, 200000, 120000, 160000, 230000, 280000, 290000, 300000, 500000, 420000, 100000, 150000, 280000])\n",
    "def deviate(lst):\n",
    "    dev=np.std(lst)\n",
    "    mn=np.mean(lst)\n",
    "    dif1=mn-dev\n",
    "    dif2=mn+dev\n",
    "    num=0\n",
    "    for i in lst:\n",
    "        if i >= dif1 and i<=dif2:\n",
    "            num+=1\n",
    "\n",
    "    return num\n",
    "\n",
    "devs=deviate(data)\n",
    "print(devs/data.size*100)"
   ],
   "outputs": [
    {
     "output_type": "stream",
     "name": "stdout",
     "text": [
      "62.5\n"
     ]
    }
   ],
   "metadata": {}
  }
 ],
 "metadata": {
  "orig_nbformat": 4,
  "language_info": {
   "name": "python",
   "version": "3.9.2",
   "mimetype": "text/x-python",
   "codemirror_mode": {
    "name": "ipython",
    "version": 3
   },
   "pygments_lexer": "ipython3",
   "nbconvert_exporter": "python",
   "file_extension": ".py"
  },
  "kernelspec": {
   "name": "python3",
   "display_name": "Python 3.9.2 64-bit"
  },
  "interpreter": {
   "hash": "e7370f93d1d0cde622a1f8e1c04877d8463912d04d973331ad4851f04de6915a"
  }
 },
 "nbformat": 4,
 "nbformat_minor": 2
}